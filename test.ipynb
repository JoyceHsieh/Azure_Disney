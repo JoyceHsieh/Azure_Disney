{
 "cells": [
  {
   "cell_type": "code",
   "execution_count": 4,
   "metadata": {},
   "outputs": [],
   "source": [
    "import joblib\n",
    "import pandas as pd"
   ]
  },
  {
   "cell_type": "code",
   "execution_count": 3,
   "metadata": {},
   "outputs": [
    {
     "name": "stdout",
     "output_type": "stream",
     "text": [
      "Model loaded\n",
      "Model columns loaded\n"
     ]
    }
   ],
   "source": [
    "clf = joblib.load(open(\"Disneymodel.pk1\", \"rb\")) # Load \"model.pkl\"\n",
    "print ('Model loaded')\n",
    "model_columns = joblib.load(\"model_columns.pk1\") # Load \"model_columns.pkl\"\n",
    "print ('Model columns loaded')"
   ]
  },
  {
   "cell_type": "code",
   "execution_count": 15,
   "metadata": {},
   "outputs": [],
   "source": [
    "Features=[1, 168 , 1122, 6, 255, 0, 255, 255, 192,167, 25,100, 178 ]"
   ]
  },
  {
   "cell_type": "code",
   "execution_count": 18,
   "metadata": {},
   "outputs": [],
   "source": [
    "x_feature=[Features]\n",
    "prediction = clf.predict(x_feature)"
   ]
  },
  {
   "cell_type": "code",
   "execution_count": 19,
   "metadata": {},
   "outputs": [
    {
     "name": "stdout",
     "output_type": "stream",
     "text": [
      "[11]\n"
     ]
    }
   ],
   "source": [
    "print(prediction)"
   ]
  },
  {
   "cell_type": "code",
   "execution_count": 25,
   "metadata": {},
   "outputs": [
    {
     "data": {
      "text/plain": [
       "numpy.int64"
      ]
     },
     "execution_count": 25,
     "metadata": {},
     "output_type": "execute_result"
    }
   ],
   "source": [
    "type(prediction[0])"
   ]
  },
  {
   "cell_type": "code",
   "execution_count": 22,
   "metadata": {},
   "outputs": [],
   "source": [
    "def image_present(Characters):\n",
    "    C=['Aladdin','Alice','Anna','Ariel','Aurora','Beast','Belle',\n",
    "            'Cinderella','Elsa','Eric','Flynn Rider','Hercules','Jasmine',\n",
    "            'Kristoff','Li Shang','Merida','Moana','Mulan','Perter Pan',\n",
    "            'Prince Charming','Pocahontas','Rapunzel','Raya','Snow White','Tiana' ]\n",
    "    \n",
    "    im = C[Characters]\n",
    "\n",
    "    \n",
    "    return im"
   ]
  },
  {
   "cell_type": "code",
   "execution_count": 27,
   "metadata": {},
   "outputs": [
    {
     "name": "stdout",
     "output_type": "stream",
     "text": [
      "Hercules\n"
     ]
    }
   ],
   "source": [
    "name=image_present(prediction[0])\n",
    "print(name)"
   ]
  },
  {
   "cell_type": "code",
   "execution_count": null,
   "metadata": {},
   "outputs": [],
   "source": [
    "def Character_Test():\n",
    "    if request.method == 'POST':\n",
    "        Name = request.form['name']\n",
    "        Sex = request.form['sex']\n",
    "        Height= request.form['height']\n",
    "        Birthday= request.form['birthday']\n",
    "        Zodiac= request.form['zodiac']\n",
    "        EC= request.form['EC']\n",
    "        HC= request.form['HC']\n",
    "        FC= request.form['FC']\n",
    "\n",
    "        Name=Name\n",
    "        N_sex=input_processing.conv_sex(Sex)\n",
    "        Height=Height\n",
    "        Birthday=Birthday\n",
    "        N_Zodiac=input_processing.conv_ZS(Zodiac)\n",
    "        N_EC=input_processing.conv_EC(EC)\n",
    "        N_HC=input_processing.conv_HC(HC)\n",
    "        N_FC=input_processing.conv_FC(FC)\n",
    "\n",
    "        Features=[N_sex, Height , Birthday, N_Zodiac, N_EC[0], N_EC[1], N_EC[2], N_HC[0], N_HC[1],N_HC[2], N_FC[0],N_FC[1],N_FC[2] ]\n",
    "        Result= predict_modelRF.predictive_modelRF( Features )\n",
    "        number= predict_modelRF.predictive_modelRF_image( Features )\n",
    "        image=image_present.image_present(number)\n",
    "        return render_template('CT_results.html', Name=Name, Character=Result, image=image)\n",
    "    return render_template('Character_Test.html', title='Character_Test')"
   ]
  },
  {
   "cell_type": "code",
   "execution_count": null,
   "metadata": {},
   "outputs": [],
   "source": []
  }
 ],
 "metadata": {
  "interpreter": {
   "hash": "f48504f9322fad0bf1c39a3006cc43882968a67f695cb27fc1ff883aee9d0e1a"
  },
  "kernelspec": {
   "display_name": "Python 3.7.4 64-bit ('base': conda)",
   "language": "python",
   "name": "python3"
  },
  "language_info": {
   "codemirror_mode": {
    "name": "ipython",
    "version": 3
   },
   "file_extension": ".py",
   "mimetype": "text/x-python",
   "name": "python",
   "nbconvert_exporter": "python",
   "pygments_lexer": "ipython3",
   "version": "3.7.4"
  },
  "orig_nbformat": 4
 },
 "nbformat": 4,
 "nbformat_minor": 2
}
